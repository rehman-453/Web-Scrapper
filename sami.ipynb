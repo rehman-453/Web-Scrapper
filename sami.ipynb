{
 "cells": [
  {
   "cell_type": "code",
   "execution_count": 1,
   "metadata": {},
   "outputs": [],
   "source": [
    "import requests\n",
    "from bs4 import BeautifulSoup\n",
    "import json\n",
    "import pandas as pd\n",
    "import numpy as np\n",
    "from matplotlib import pyplot as plt"
   ]
  },
  {
   "cell_type": "code",
   "execution_count": 2,
   "metadata": {},
   "outputs": [],
   "source": [
    "head_url = 'https://labs.data.gov/dashboard/offices/detail/'\n",
    "tail_url = '/2020-06-30'"
   ]
  },
  {
   "cell_type": "code",
   "execution_count": 3,
   "metadata": {},
   "outputs": [],
   "source": [
    "deprt = {\n",
    "    'Emp Opp Cmsn':48032,\n",
    "    'Prsnl Mngmnt':48112,\n",
    "    'Business Admn':48139,\n",
    "    'Agriculture':49015,\n",
    "    'Education':49018,\n",
    "    'Energy':49019,\n",
    "    'Health':49021,\n",
    "    'Securty':49022,\n",
    "    'Urbn Dvlpmnt':49023,\n",
    "    'Labor':49028,\n",
    "    'State':49030,\n",
    "    'Interior':49033,\n",
    "    'Treasury':49034,\n",
    "    'Insurance':49043,\n",
    "    'Trade Cmsn':49047,\n",
    "    'Gnrl Admin':49048,\n",
    "    'Pension':49052,\n",
    "    'Social Security':49057,\n",
    "    'Financial':49113,\n",
    "    'Defense':49229,\n",
    "    'Aeronautics':49476,\n",
    "    'U.S. Trade Cmsn':49712,\n",
    "    'U.S. Dvlpmnt':52583,\n",
    "    'Housing Finance':52611,\n",
    "    'Prtction Board':52630,\n",
    "    'Humanities':52636,\n",
    "    'Science':52640,\n",
    "    'Nuclear':52645,\n",
    "    'Commerce':52668,\n",
    "    'Justice':52686\n",
    "}"
   ]
  },
  {
   "cell_type": "code",
   "execution_count": 4,
   "metadata": {},
   "outputs": [
    {
     "name": "stdout",
     "output_type": "stream",
     "text": [
      "30\n"
     ]
    }
   ],
   "source": [
    "print(len(deprt))"
   ]
  },
  {
   "cell_type": "code",
   "execution_count": 7,
   "metadata": {},
   "outputs": [
    {
     "name": "stdout",
     "output_type": "stream",
     "text": [
      "data = [('136', '0', '136', '0', '0', '0', '0', '0'), ('682', '56', '583', '43', '6', '0', '6', '0'), ('916', '1', '886', '29', '32', '0', '5', '27'), ('1756', '3', '1576', '177', '10', '0', '10', '0'), ('488', '31', '455', '2', '1', '0', '1', '0'), ('450', '182', '262', '6', '176', '170', '6', '0'), ('1718', '18', '1700', '0', '43', '0', '43', '0'), ('1005', '22', '693', '290', '0', '0', '0', '0'), ('172', '21', '151', '0', '34', '0', '34', '0'), ('239', '1', '235', '3', '76', '0', '76', '0'), ('371', '0', '371', '0', '0', '0', '0', '0'), ('47002', '1412', '45590', '0', '62', '0', '62', '0'), ('277', '0', '277', '0', '0', '0', '0', '0'), ('6', '0', '6', '0', '0', '0', '0', '0'), ('95', '0', '95', '0', '2', '0', '2', '0'), ('256', '1', '241', '14', '5', '1', '4', '0'), ('10', '0', '10', '0', '0', '0', '0', '0'), ('2033', '99', '1457', '477', '7', '0', '7', '0'), ('2', '0', '2', '0', '2', '0', '2', '0'), ('177', '0', '177', '0', '0', '0', '0', '0'), ('27099', '366', '26732', '1', '0', '0', '0', '0'), ('29', '0', '29', '0', '3', '0', '3', '0'), ('1179', '7', '1170', '2', '2', '0', '2', '0'), ('2', '0', '2', '0', '0', '0', '0', '0'), ('1', '0', '1', '0', '0', '0', '0', '0'), ('47', '0', '47', '0', '0', '0', '0', '0'), ('173', '1', '166', '6', '3', '0', '3', '0'), ('37', '0', '34', '3', '0', '0', '0', '0'), ('39100', '31', '39068', '1', '8', '0', '8', '0'), ('1223', '445', '778', '0', '6', '1', '5', '0')]\n",
      "\n",
      "Length = 30\n"
     ]
    }
   ],
   "source": [
    "data = []\n",
    "for k,v in deprt.items():\n",
    "    url = head_url + str(v) + tail_url\n",
    "    response = requests.get(url)\n",
    "    if response.status_code == 200:\n",
    "        soup = BeautifulSoup(response.content, 'html.parser')\n",
    "        \n",
    "        datasets1 = soup.find_all('td', id=\"pdl_datasets\")\n",
    "        datasets_value = [d.text.strip() for d in datasets1]\n",
    "        \n",
    "        restricted_public_datasets1 = soup.find_all('td', id=\"pdl_access_restricted\")\n",
    "        restricted_public_datasets_value = [d.text.strip() for d in restricted_public_datasets1]\n",
    "        \n",
    "        public_datasets1 = soup.find_all('td', id=\"pdl_access_public\")\n",
    "        public_datasets_value = [d.text.strip() for d in public_datasets1]\n",
    "        \n",
    "        non_public_datasets1 = soup.find_all('td', id=\"pdl_access_nonpublic\")\n",
    "        non_public_datasets_value = [d.text.strip() for d in non_public_datasets1]\n",
    "        \n",
    "        total_API1 = soup.find_all('td', id=\"pdl_apis\")\n",
    "        total_API_value = [d.text.strip() for d in total_API1]\n",
    "        \n",
    "        restricted_public_API1 = soup.find_all('td', id=\"pdl_api_access_restricted\")\n",
    "        restricted_public_API_value = [d.text.strip() for d in restricted_public_API1]\n",
    "        \n",
    "        public_API1 = soup.find_all('td', id=\"pdl_api_access_public\")\n",
    "        public_API_value = [d.text.strip() for d in public_API1]\n",
    "        \n",
    "        non_public_API1 = soup.find_all('td', id=\"pdl_api_access_nonpublic\")\n",
    "        non_public_API_value = [d.text.strip() for d in non_public_API1]\n",
    "        \n",
    "        temp = list(zip(\n",
    "            datasets_value, \n",
    "            restricted_public_datasets_value,\n",
    "            public_datasets_value, \n",
    "            non_public_datasets_value, \n",
    "            total_API_value, \n",
    "            restricted_public_API_value,\n",
    "            public_API_value, \n",
    "            non_public_API_value\n",
    "        ))\n",
    "        \n",
    "        data += temp\n",
    "\n",
    "print('data =',data)\n",
    "print('\\nLength =',len(data))        "
   ]
  },
  {
   "cell_type": "code",
   "execution_count": 8,
   "metadata": {},
   "outputs": [
    {
     "name": "stdout",
     "output_type": "stream",
     "text": [
      "Datasets = ['136', '682', '916', '1756', '488', '450', '1718', '1005', '172', '239', '371', '47002', '277', '6', '95', '256', '10', '2033', '2', '177', '27099', '29', '1179', '2', '1', '47', '173', '37', '39100', '1223']\n",
      "\n",
      "Length = 30\n"
     ]
    }
   ],
   "source": [
    "Datasets = [i[0] for i in data]\n",
    "print('Datasets =',Datasets)\n",
    "print('\\nLength =',len(Datasets))"
   ]
  },
  {
   "cell_type": "code",
   "execution_count": 9,
   "metadata": {},
   "outputs": [
    {
     "name": "stdout",
     "output_type": "stream",
     "text": [
      "Restricted_Public_Datasets = ['0', '56', '1', '3', '31', '182', '18', '22', '21', '1', '0', '1412', '0', '0', '0', '1', '0', '99', '0', '0', '366', '0', '7', '0', '0', '0', '1', '0', '31', '445']\n",
      "\n",
      "Length = 30\n"
     ]
    }
   ],
   "source": [
    "Restricted_Public_Datasets = [i[1] for i in data]\n",
    "print('Restricted_Public_Datasets =',Restricted_Public_Datasets)\n",
    "print('\\nLength =',len(Restricted_Public_Datasets))"
   ]
  },
  {
   "cell_type": "code",
   "execution_count": 10,
   "metadata": {},
   "outputs": [
    {
     "name": "stdout",
     "output_type": "stream",
     "text": [
      "Public_Datsets = ['136', '583', '886', '1576', '455', '262', '1700', '693', '151', '235', '371', '45590', '277', '6', '95', '241', '10', '1457', '2', '177', '26732', '29', '1170', '2', '1', '47', '166', '34', '39068', '778']\n",
      "\n",
      "Length = 30\n"
     ]
    }
   ],
   "source": [
    "Public_Datsets = [i[2] for i in data]\n",
    "print('Public_Datsets =',Public_Datsets)\n",
    "print('\\nLength =',len(Public_Datsets))"
   ]
  },
  {
   "cell_type": "code",
   "execution_count": 11,
   "metadata": {},
   "outputs": [
    {
     "name": "stdout",
     "output_type": "stream",
     "text": [
      "Non_Public_Datasets = ['0', '43', '29', '177', '2', '6', '0', '290', '0', '3', '0', '0', '0', '0', '0', '14', '0', '477', '0', '0', '1', '0', '2', '0', '0', '0', '6', '3', '1', '0']\n",
      "\n",
      "Length = 30\n"
     ]
    }
   ],
   "source": [
    "Non_Public_Datasets = [i[3] for i in data]\n",
    "print('Non_Public_Datasets =',Non_Public_Datasets)\n",
    "print('\\nLength =',len(Non_Public_Datasets))"
   ]
  },
  {
   "cell_type": "code",
   "execution_count": 12,
   "metadata": {},
   "outputs": [
    {
     "name": "stdout",
     "output_type": "stream",
     "text": [
      "Total_API = ['0', '6', '32', '10', '1', '176', '43', '0', '34', '76', '0', '62', '0', '0', '2', '5', '0', '7', '2', '0', '0', '3', '2', '0', '0', '0', '3', '0', '8', '6']\n",
      "\n",
      "Length = 30\n"
     ]
    }
   ],
   "source": [
    "Total_API = [i[4] for i in data]\n",
    "print('Total_API =',Total_API)\n",
    "print('\\nLength =',len(Total_API))"
   ]
  },
  {
   "cell_type": "code",
   "execution_count": 13,
   "metadata": {},
   "outputs": [
    {
     "name": "stdout",
     "output_type": "stream",
     "text": [
      "Restricted_Public_API = ['0', '0', '0', '0', '0', '170', '0', '0', '0', '0', '0', '0', '0', '0', '0', '1', '0', '0', '0', '0', '0', '0', '0', '0', '0', '0', '0', '0', '0', '1']\n",
      "\n",
      "Length = 30\n"
     ]
    }
   ],
   "source": [
    "Restricted_Public_API = [i[5] for i in data]\n",
    "print('Restricted_Public_API =',Restricted_Public_API)\n",
    "print('\\nLength =',len(Restricted_Public_API))"
   ]
  },
  {
   "cell_type": "code",
   "execution_count": 14,
   "metadata": {},
   "outputs": [
    {
     "name": "stdout",
     "output_type": "stream",
     "text": [
      "Public_API = ['0', '6', '5', '10', '1', '6', '43', '0', '34', '76', '0', '62', '0', '0', '2', '4', '0', '7', '2', '0', '0', '3', '2', '0', '0', '0', '3', '0', '8', '5']\n",
      "\n",
      "Length = 30\n"
     ]
    }
   ],
   "source": [
    "Public_API = [i[6] for i in data]\n",
    "print('Public_API =',Public_API)\n",
    "print('\\nLength =',len(Public_API))"
   ]
  },
  {
   "cell_type": "code",
   "execution_count": 15,
   "metadata": {},
   "outputs": [
    {
     "name": "stdout",
     "output_type": "stream",
     "text": [
      "Non_Public_API = ['0', '0', '27', '0', '0', '0', '0', '0', '0', '0', '0', '0', '0', '0', '0', '0', '0', '0', '0', '0', '0', '0', '0', '0', '0', '0', '0', '0', '0', '0']\n",
      "\n",
      "Length = 30\n"
     ]
    }
   ],
   "source": [
    "Non_Public_API = [i[7] for i in data]\n",
    "print('Non_Public_API =',Non_Public_API)\n",
    "print('\\nLength =',len(Non_Public_API))"
   ]
  },
  {
   "cell_type": "code",
   "execution_count": 16,
   "metadata": {},
   "outputs": [
    {
     "name": "stdout",
     "output_type": "stream",
     "text": [
      "Departments = ['Emp Opp Cmsn', 'Prsnl Mngmnt', 'Business Admn', 'Agriculture', 'Education', 'Energy', 'Health', 'Securty', 'Urbn Dvlpmnt', 'Labor', 'State', 'Interior', 'Treasury', 'Insurance', 'Trade Cmsn', 'Gnrl Admin', 'Pension', 'Social Security', 'Financial', 'Defense', 'Aeronautics', 'U.S. Trade Cmsn', 'U.S. Dvlpmnt', 'Housing Finance', 'Prtction Board', 'Humanities', 'Science', 'Nuclear', 'Commerce', 'Justice']\n",
      "\n",
      "Length 30\n"
     ]
    }
   ],
   "source": [
    "Departments = [k for k,v in deprt.items()]\n",
    "print('Departments =',Departments)\n",
    "print('\\nLength',len(Departments))"
   ]
  },
  {
   "cell_type": "code",
   "execution_count": 17,
   "metadata": {},
   "outputs": [],
   "source": [
    "table = {\n",
    "    'Departments': Departments,\n",
    "    'Datasets': Datasets,\n",
    "    'Restricted_Public_Datasets': Restricted_Public_Datasets,\n",
    "    'Public_Datsets': Public_Datsets,\n",
    "    'Non_Public_Datasets': Non_Public_Datasets,\n",
    "    'Total_API': Total_API,\n",
    "    'Restricted_Public_API': Restricted_Public_API,\n",
    "    'Public_API': Public_API,\n",
    "    'Non_Public_API': Non_Public_API\n",
    "}"
   ]
  },
  {
   "cell_type": "code",
   "execution_count": 18,
   "metadata": {},
   "outputs": [],
   "source": [
    "with open('table.json', 'w') as file:\n",
    "    json.dump(table, file, indent=4)"
   ]
  },
  {
   "cell_type": "code",
   "execution_count": 19,
   "metadata": {},
   "outputs": [],
   "source": [
    "with open('table.json', 'r') as f:\n",
    "    records = json.load(f)"
   ]
  },
  {
   "cell_type": "code",
   "execution_count": 20,
   "metadata": {},
   "outputs": [
    {
     "data": {
      "text/html": [
       "<div>\n",
       "<style scoped>\n",
       "    .dataframe tbody tr th:only-of-type {\n",
       "        vertical-align: middle;\n",
       "    }\n",
       "\n",
       "    .dataframe tbody tr th {\n",
       "        vertical-align: top;\n",
       "    }\n",
       "\n",
       "    .dataframe thead th {\n",
       "        text-align: right;\n",
       "    }\n",
       "</style>\n",
       "<table border=\"1\" class=\"dataframe\">\n",
       "  <thead>\n",
       "    <tr style=\"text-align: right;\">\n",
       "      <th></th>\n",
       "      <th>Departments</th>\n",
       "      <th>Datasets</th>\n",
       "      <th>Restricted_Public_Datasets</th>\n",
       "      <th>Public_Datsets</th>\n",
       "      <th>Non_Public_Datasets</th>\n",
       "      <th>Total_API</th>\n",
       "      <th>Restricted_Public_API</th>\n",
       "      <th>Public_API</th>\n",
       "      <th>Non_Public_API</th>\n",
       "    </tr>\n",
       "  </thead>\n",
       "  <tbody>\n",
       "    <tr>\n",
       "      <th>0</th>\n",
       "      <td>Emp Opp Cmsn</td>\n",
       "      <td>136</td>\n",
       "      <td>0</td>\n",
       "      <td>136</td>\n",
       "      <td>0</td>\n",
       "      <td>0</td>\n",
       "      <td>0</td>\n",
       "      <td>0</td>\n",
       "      <td>0</td>\n",
       "    </tr>\n",
       "    <tr>\n",
       "      <th>1</th>\n",
       "      <td>Prsnl Mngmnt</td>\n",
       "      <td>682</td>\n",
       "      <td>56</td>\n",
       "      <td>583</td>\n",
       "      <td>43</td>\n",
       "      <td>6</td>\n",
       "      <td>0</td>\n",
       "      <td>6</td>\n",
       "      <td>0</td>\n",
       "    </tr>\n",
       "    <tr>\n",
       "      <th>2</th>\n",
       "      <td>Business Admn</td>\n",
       "      <td>916</td>\n",
       "      <td>1</td>\n",
       "      <td>886</td>\n",
       "      <td>29</td>\n",
       "      <td>32</td>\n",
       "      <td>0</td>\n",
       "      <td>5</td>\n",
       "      <td>27</td>\n",
       "    </tr>\n",
       "    <tr>\n",
       "      <th>3</th>\n",
       "      <td>Agriculture</td>\n",
       "      <td>1756</td>\n",
       "      <td>3</td>\n",
       "      <td>1576</td>\n",
       "      <td>177</td>\n",
       "      <td>10</td>\n",
       "      <td>0</td>\n",
       "      <td>10</td>\n",
       "      <td>0</td>\n",
       "    </tr>\n",
       "    <tr>\n",
       "      <th>4</th>\n",
       "      <td>Education</td>\n",
       "      <td>488</td>\n",
       "      <td>31</td>\n",
       "      <td>455</td>\n",
       "      <td>2</td>\n",
       "      <td>1</td>\n",
       "      <td>0</td>\n",
       "      <td>1</td>\n",
       "      <td>0</td>\n",
       "    </tr>\n",
       "    <tr>\n",
       "      <th>5</th>\n",
       "      <td>Energy</td>\n",
       "      <td>450</td>\n",
       "      <td>182</td>\n",
       "      <td>262</td>\n",
       "      <td>6</td>\n",
       "      <td>176</td>\n",
       "      <td>170</td>\n",
       "      <td>6</td>\n",
       "      <td>0</td>\n",
       "    </tr>\n",
       "    <tr>\n",
       "      <th>6</th>\n",
       "      <td>Health</td>\n",
       "      <td>1718</td>\n",
       "      <td>18</td>\n",
       "      <td>1700</td>\n",
       "      <td>0</td>\n",
       "      <td>43</td>\n",
       "      <td>0</td>\n",
       "      <td>43</td>\n",
       "      <td>0</td>\n",
       "    </tr>\n",
       "    <tr>\n",
       "      <th>7</th>\n",
       "      <td>Securty</td>\n",
       "      <td>1005</td>\n",
       "      <td>22</td>\n",
       "      <td>693</td>\n",
       "      <td>290</td>\n",
       "      <td>0</td>\n",
       "      <td>0</td>\n",
       "      <td>0</td>\n",
       "      <td>0</td>\n",
       "    </tr>\n",
       "    <tr>\n",
       "      <th>8</th>\n",
       "      <td>Urbn Dvlpmnt</td>\n",
       "      <td>172</td>\n",
       "      <td>21</td>\n",
       "      <td>151</td>\n",
       "      <td>0</td>\n",
       "      <td>34</td>\n",
       "      <td>0</td>\n",
       "      <td>34</td>\n",
       "      <td>0</td>\n",
       "    </tr>\n",
       "    <tr>\n",
       "      <th>9</th>\n",
       "      <td>Labor</td>\n",
       "      <td>239</td>\n",
       "      <td>1</td>\n",
       "      <td>235</td>\n",
       "      <td>3</td>\n",
       "      <td>76</td>\n",
       "      <td>0</td>\n",
       "      <td>76</td>\n",
       "      <td>0</td>\n",
       "    </tr>\n",
       "    <tr>\n",
       "      <th>10</th>\n",
       "      <td>State</td>\n",
       "      <td>371</td>\n",
       "      <td>0</td>\n",
       "      <td>371</td>\n",
       "      <td>0</td>\n",
       "      <td>0</td>\n",
       "      <td>0</td>\n",
       "      <td>0</td>\n",
       "      <td>0</td>\n",
       "    </tr>\n",
       "    <tr>\n",
       "      <th>11</th>\n",
       "      <td>Interior</td>\n",
       "      <td>47002</td>\n",
       "      <td>1412</td>\n",
       "      <td>45590</td>\n",
       "      <td>0</td>\n",
       "      <td>62</td>\n",
       "      <td>0</td>\n",
       "      <td>62</td>\n",
       "      <td>0</td>\n",
       "    </tr>\n",
       "    <tr>\n",
       "      <th>12</th>\n",
       "      <td>Treasury</td>\n",
       "      <td>277</td>\n",
       "      <td>0</td>\n",
       "      <td>277</td>\n",
       "      <td>0</td>\n",
       "      <td>0</td>\n",
       "      <td>0</td>\n",
       "      <td>0</td>\n",
       "      <td>0</td>\n",
       "    </tr>\n",
       "    <tr>\n",
       "      <th>13</th>\n",
       "      <td>Insurance</td>\n",
       "      <td>6</td>\n",
       "      <td>0</td>\n",
       "      <td>6</td>\n",
       "      <td>0</td>\n",
       "      <td>0</td>\n",
       "      <td>0</td>\n",
       "      <td>0</td>\n",
       "      <td>0</td>\n",
       "    </tr>\n",
       "    <tr>\n",
       "      <th>14</th>\n",
       "      <td>Trade Cmsn</td>\n",
       "      <td>95</td>\n",
       "      <td>0</td>\n",
       "      <td>95</td>\n",
       "      <td>0</td>\n",
       "      <td>2</td>\n",
       "      <td>0</td>\n",
       "      <td>2</td>\n",
       "      <td>0</td>\n",
       "    </tr>\n",
       "    <tr>\n",
       "      <th>15</th>\n",
       "      <td>Gnrl Admin</td>\n",
       "      <td>256</td>\n",
       "      <td>1</td>\n",
       "      <td>241</td>\n",
       "      <td>14</td>\n",
       "      <td>5</td>\n",
       "      <td>1</td>\n",
       "      <td>4</td>\n",
       "      <td>0</td>\n",
       "    </tr>\n",
       "    <tr>\n",
       "      <th>16</th>\n",
       "      <td>Pension</td>\n",
       "      <td>10</td>\n",
       "      <td>0</td>\n",
       "      <td>10</td>\n",
       "      <td>0</td>\n",
       "      <td>0</td>\n",
       "      <td>0</td>\n",
       "      <td>0</td>\n",
       "      <td>0</td>\n",
       "    </tr>\n",
       "    <tr>\n",
       "      <th>17</th>\n",
       "      <td>Social Security</td>\n",
       "      <td>2033</td>\n",
       "      <td>99</td>\n",
       "      <td>1457</td>\n",
       "      <td>477</td>\n",
       "      <td>7</td>\n",
       "      <td>0</td>\n",
       "      <td>7</td>\n",
       "      <td>0</td>\n",
       "    </tr>\n",
       "    <tr>\n",
       "      <th>18</th>\n",
       "      <td>Financial</td>\n",
       "      <td>2</td>\n",
       "      <td>0</td>\n",
       "      <td>2</td>\n",
       "      <td>0</td>\n",
       "      <td>2</td>\n",
       "      <td>0</td>\n",
       "      <td>2</td>\n",
       "      <td>0</td>\n",
       "    </tr>\n",
       "    <tr>\n",
       "      <th>19</th>\n",
       "      <td>Defense</td>\n",
       "      <td>177</td>\n",
       "      <td>0</td>\n",
       "      <td>177</td>\n",
       "      <td>0</td>\n",
       "      <td>0</td>\n",
       "      <td>0</td>\n",
       "      <td>0</td>\n",
       "      <td>0</td>\n",
       "    </tr>\n",
       "    <tr>\n",
       "      <th>20</th>\n",
       "      <td>Aeronautics</td>\n",
       "      <td>27099</td>\n",
       "      <td>366</td>\n",
       "      <td>26732</td>\n",
       "      <td>1</td>\n",
       "      <td>0</td>\n",
       "      <td>0</td>\n",
       "      <td>0</td>\n",
       "      <td>0</td>\n",
       "    </tr>\n",
       "    <tr>\n",
       "      <th>21</th>\n",
       "      <td>U.S. Trade Cmsn</td>\n",
       "      <td>29</td>\n",
       "      <td>0</td>\n",
       "      <td>29</td>\n",
       "      <td>0</td>\n",
       "      <td>3</td>\n",
       "      <td>0</td>\n",
       "      <td>3</td>\n",
       "      <td>0</td>\n",
       "    </tr>\n",
       "    <tr>\n",
       "      <th>22</th>\n",
       "      <td>U.S. Dvlpmnt</td>\n",
       "      <td>1179</td>\n",
       "      <td>7</td>\n",
       "      <td>1170</td>\n",
       "      <td>2</td>\n",
       "      <td>2</td>\n",
       "      <td>0</td>\n",
       "      <td>2</td>\n",
       "      <td>0</td>\n",
       "    </tr>\n",
       "    <tr>\n",
       "      <th>23</th>\n",
       "      <td>Housing Finance</td>\n",
       "      <td>2</td>\n",
       "      <td>0</td>\n",
       "      <td>2</td>\n",
       "      <td>0</td>\n",
       "      <td>0</td>\n",
       "      <td>0</td>\n",
       "      <td>0</td>\n",
       "      <td>0</td>\n",
       "    </tr>\n",
       "    <tr>\n",
       "      <th>24</th>\n",
       "      <td>Prtction Board</td>\n",
       "      <td>1</td>\n",
       "      <td>0</td>\n",
       "      <td>1</td>\n",
       "      <td>0</td>\n",
       "      <td>0</td>\n",
       "      <td>0</td>\n",
       "      <td>0</td>\n",
       "      <td>0</td>\n",
       "    </tr>\n",
       "    <tr>\n",
       "      <th>25</th>\n",
       "      <td>Humanities</td>\n",
       "      <td>47</td>\n",
       "      <td>0</td>\n",
       "      <td>47</td>\n",
       "      <td>0</td>\n",
       "      <td>0</td>\n",
       "      <td>0</td>\n",
       "      <td>0</td>\n",
       "      <td>0</td>\n",
       "    </tr>\n",
       "    <tr>\n",
       "      <th>26</th>\n",
       "      <td>Science</td>\n",
       "      <td>173</td>\n",
       "      <td>1</td>\n",
       "      <td>166</td>\n",
       "      <td>6</td>\n",
       "      <td>3</td>\n",
       "      <td>0</td>\n",
       "      <td>3</td>\n",
       "      <td>0</td>\n",
       "    </tr>\n",
       "    <tr>\n",
       "      <th>27</th>\n",
       "      <td>Nuclear</td>\n",
       "      <td>37</td>\n",
       "      <td>0</td>\n",
       "      <td>34</td>\n",
       "      <td>3</td>\n",
       "      <td>0</td>\n",
       "      <td>0</td>\n",
       "      <td>0</td>\n",
       "      <td>0</td>\n",
       "    </tr>\n",
       "    <tr>\n",
       "      <th>28</th>\n",
       "      <td>Commerce</td>\n",
       "      <td>39100</td>\n",
       "      <td>31</td>\n",
       "      <td>39068</td>\n",
       "      <td>1</td>\n",
       "      <td>8</td>\n",
       "      <td>0</td>\n",
       "      <td>8</td>\n",
       "      <td>0</td>\n",
       "    </tr>\n",
       "    <tr>\n",
       "      <th>29</th>\n",
       "      <td>Justice</td>\n",
       "      <td>1223</td>\n",
       "      <td>445</td>\n",
       "      <td>778</td>\n",
       "      <td>0</td>\n",
       "      <td>6</td>\n",
       "      <td>1</td>\n",
       "      <td>5</td>\n",
       "      <td>0</td>\n",
       "    </tr>\n",
       "  </tbody>\n",
       "</table>\n",
       "</div>"
      ],
      "text/plain": [
       "        Departments Datasets Restricted_Public_Datasets Public_Datsets  \\\n",
       "0      Emp Opp Cmsn      136                          0            136   \n",
       "1      Prsnl Mngmnt      682                         56            583   \n",
       "2     Business Admn      916                          1            886   \n",
       "3       Agriculture     1756                          3           1576   \n",
       "4         Education      488                         31            455   \n",
       "5            Energy      450                        182            262   \n",
       "6            Health     1718                         18           1700   \n",
       "7           Securty     1005                         22            693   \n",
       "8      Urbn Dvlpmnt      172                         21            151   \n",
       "9             Labor      239                          1            235   \n",
       "10            State      371                          0            371   \n",
       "11         Interior    47002                       1412          45590   \n",
       "12         Treasury      277                          0            277   \n",
       "13        Insurance        6                          0              6   \n",
       "14       Trade Cmsn       95                          0             95   \n",
       "15       Gnrl Admin      256                          1            241   \n",
       "16          Pension       10                          0             10   \n",
       "17  Social Security     2033                         99           1457   \n",
       "18        Financial        2                          0              2   \n",
       "19          Defense      177                          0            177   \n",
       "20      Aeronautics    27099                        366          26732   \n",
       "21  U.S. Trade Cmsn       29                          0             29   \n",
       "22     U.S. Dvlpmnt     1179                          7           1170   \n",
       "23  Housing Finance        2                          0              2   \n",
       "24   Prtction Board        1                          0              1   \n",
       "25       Humanities       47                          0             47   \n",
       "26          Science      173                          1            166   \n",
       "27          Nuclear       37                          0             34   \n",
       "28         Commerce    39100                         31          39068   \n",
       "29          Justice     1223                        445            778   \n",
       "\n",
       "   Non_Public_Datasets Total_API Restricted_Public_API Public_API  \\\n",
       "0                    0         0                     0          0   \n",
       "1                   43         6                     0          6   \n",
       "2                   29        32                     0          5   \n",
       "3                  177        10                     0         10   \n",
       "4                    2         1                     0          1   \n",
       "5                    6       176                   170          6   \n",
       "6                    0        43                     0         43   \n",
       "7                  290         0                     0          0   \n",
       "8                    0        34                     0         34   \n",
       "9                    3        76                     0         76   \n",
       "10                   0         0                     0          0   \n",
       "11                   0        62                     0         62   \n",
       "12                   0         0                     0          0   \n",
       "13                   0         0                     0          0   \n",
       "14                   0         2                     0          2   \n",
       "15                  14         5                     1          4   \n",
       "16                   0         0                     0          0   \n",
       "17                 477         7                     0          7   \n",
       "18                   0         2                     0          2   \n",
       "19                   0         0                     0          0   \n",
       "20                   1         0                     0          0   \n",
       "21                   0         3                     0          3   \n",
       "22                   2         2                     0          2   \n",
       "23                   0         0                     0          0   \n",
       "24                   0         0                     0          0   \n",
       "25                   0         0                     0          0   \n",
       "26                   6         3                     0          3   \n",
       "27                   3         0                     0          0   \n",
       "28                   1         8                     0          8   \n",
       "29                   0         6                     1          5   \n",
       "\n",
       "   Non_Public_API  \n",
       "0               0  \n",
       "1               0  \n",
       "2              27  \n",
       "3               0  \n",
       "4               0  \n",
       "5               0  \n",
       "6               0  \n",
       "7               0  \n",
       "8               0  \n",
       "9               0  \n",
       "10              0  \n",
       "11              0  \n",
       "12              0  \n",
       "13              0  \n",
       "14              0  \n",
       "15              0  \n",
       "16              0  \n",
       "17              0  \n",
       "18              0  \n",
       "19              0  \n",
       "20              0  \n",
       "21              0  \n",
       "22              0  \n",
       "23              0  \n",
       "24              0  \n",
       "25              0  \n",
       "26              0  \n",
       "27              0  \n",
       "28              0  \n",
       "29              0  "
      ]
     },
     "execution_count": 20,
     "metadata": {},
     "output_type": "execute_result"
    }
   ],
   "source": [
    "data_frame = pd.DataFrame(records)\n",
    "data_frame"
   ]
  },
  {
   "cell_type": "code",
   "execution_count": 21,
   "metadata": {},
   "outputs": [
    {
     "data": {
      "text/plain": [
       "Departments                   object\n",
       "Datasets                      object\n",
       "Restricted_Public_Datasets    object\n",
       "Public_Datsets                object\n",
       "Non_Public_Datasets           object\n",
       "Total_API                     object\n",
       "Restricted_Public_API         object\n",
       "Public_API                    object\n",
       "Non_Public_API                object\n",
       "dtype: object"
      ]
     },
     "execution_count": 21,
     "metadata": {},
     "output_type": "execute_result"
    }
   ],
   "source": [
    "data_frame.dtypes"
   ]
  },
  {
   "cell_type": "code",
   "execution_count": 22,
   "metadata": {},
   "outputs": [],
   "source": [
    "data_frame['Datasets'] = data_frame['Datasets'].astype(int)\n",
    "data_frame['Restricted_Public_Datasets'] = data_frame['Restricted_Public_Datasets'].astype(int)\n",
    "data_frame['Public_Datsets'] = data_frame['Public_Datsets'].astype(int)\n",
    "data_frame['Non_Public_Datasets'] = data_frame['Non_Public_Datasets'].astype(int)\n",
    "data_frame['Total_API'] = data_frame['Total_API'].astype(int)\n",
    "data_frame['Restricted_Public_API'] = data_frame['Restricted_Public_API'].astype(int)\n",
    "data_frame['Public_API'] = data_frame['Public_API'].astype(int)\n",
    "data_frame['Non_Public_API'] = data_frame['Non_Public_API'].astype(int)"
   ]
  },
  {
   "cell_type": "code",
   "execution_count": 23,
   "metadata": {},
   "outputs": [
    {
     "data": {
      "text/plain": [
       "Departments                   object\n",
       "Datasets                       int32\n",
       "Restricted_Public_Datasets     int32\n",
       "Public_Datsets                 int32\n",
       "Non_Public_Datasets            int32\n",
       "Total_API                      int32\n",
       "Restricted_Public_API          int32\n",
       "Public_API                     int32\n",
       "Non_Public_API                 int32\n",
       "dtype: object"
      ]
     },
     "execution_count": 23,
     "metadata": {},
     "output_type": "execute_result"
    }
   ],
   "source": [
    "data_frame.dtypes"
   ]
  },
  {
   "cell_type": "code",
   "execution_count": 24,
   "metadata": {},
   "outputs": [
    {
     "data": {
      "image/png": "[encoded data removed]",
      "text/plain": [
       "<Figure size 432x288 with 1 Axes>"
      ]
     },
     "metadata": {
      "needs_background": "light"
     },
     "output_type": "display_data"
    }
   ],
   "source": [
    "X = data_frame['Datasets']\n",
    "Y = data_frame['Total_API']\n",
    "\n",
    "plt.plot(X,Y)\n",
    "plt.xlabel('Datasets')\n",
    "plt.ylabel('Total API')\n",
    "plt.title('Datasets Vs Total API')\n",
    "plt.grid()\n",
    "plt.show()"
   ]
  },
  {
   "cell_type": "code",
   "execution_count": 25,
   "metadata": {},
   "outputs": [
    {
     "data": {
      "image/png": "[encoded data removed]",
      "text/plain": [
       "<Figure size 1600x1000 with 1 Axes>"
      ]
     },
     "metadata": {
      "needs_background": "light"
     },
     "output_type": "display_data"
    }
   ],
   "source": [
    "plt.figure(figsize = (8,5),dpi=200)\n",
    "\n",
    "a = data_frame['Total_API'].tail(6)\n",
    "b = data_frame['Public_API'].tail(6)\n",
    "c = data_frame['Non_Public_API'].tail(6)\n",
    "plt.plot(a,b,'c', label = 'Public')\n",
    "plt.plot(a,c,'m', label = 'Non-Public')\n",
    "plt.title('Total API with Public and Non-Public API')\n",
    "plt.xlabel('Total API')\n",
    "plt.ylabel('Public and Non-Public API')\n",
    "plt.legend()\n",
    "# plt.grid(color = 'b')\n",
    "plt.show()"
   ]
  },
  {
   "cell_type": "code",
   "execution_count": 26,
   "metadata": {},
   "outputs": [
    {
     "data": {
      "image/png": "[encoded data removed]",
      "text/plain": [
       "<Figure size 1600x1000 with 1 Axes>"
      ]
     },
     "metadata": {
      "needs_background": "light"
     },
     "output_type": "display_data"
    }
   ],
   "source": [
    "plt.figure(figsize = (8,5),dpi=200)\n",
    "\n",
    "\n",
    "labels = data_frame['Departments'].head()\n",
    "values = data_frame['Datasets'].head()\n",
    "bars = plt.bar(labels,values)\n",
    "plt.xlabel('Departments')\n",
    "plt.ylabel('Datasets')\n",
    "plt.title('Departments vs Datasets')\n",
    "plt.show()"
   ]
  },
  {
   "cell_type": "code",
   "execution_count": 27,
   "metadata": {},
   "outputs": [
    {
     "data": {
      "image/png": "[encoded data removed]",
      "text/plain": [
       "<Figure size 432x288 with 1 Axes>"
      ]
     },
     "metadata": {
      "needs_background": "light"
     },
     "output_type": "display_data"
    }
   ],
   "source": [
    "x1 = [1,3,5,9]\n",
    "y1 = [5,6,2,3]\n",
    "\n",
    "x2 = [1,3,5,9]\n",
    "y2 = [2,3,2,6]\n",
    "\n",
    "plt.bar(x1,y1,label='Square')\n",
    "plt.bar(x2,y2,label='Cube')\n",
    "plt.legend()\n",
    "plt.xlabel('bar number')\n",
    "plt.ylabel('bar height')\n",
    "plt.title('Bar Plot')\n",
    "plt.show()"
   ]
  },
  {
   "cell_type": "code",
   "execution_count": null,
   "metadata": {},
   "outputs": [],
   "source": [
    "plt.figure(figsize = (8,5),dpi=200)\n",
    "\n",
    "x1 = data_frame['Departments'].head()\n",
    "y1 = data_frame['Datasets'].head()\n",
    "\n",
    "x2 = data_frame['Departments'].head()\n",
    "y2 = data_frame['Public_Datsets'].head()\n",
    "\n",
    "plt.bar(x1,y1,label='Datasets')\n",
    "plt.bar(x2,y2,label='Public_Datsets')\n",
    "plt.legend()\n",
    "plt.xlabel('Departments')\n",
    "plt.ylabel('DATASETS')\n",
    "plt.title('Combination of Datasets and Public_Datsets')\n",
    "plt.show()"
   ]
  },
  {
   "cell_type": "code",
   "execution_count": null,
   "metadata": {},
   "outputs": [],
   "source": [
    "plt.figure(figsize = (8,5),dpi=200)\n",
    "\n",
    "x1 = data_frame['Departments'].tail()\n",
    "y1 = data_frame['Datasets'].tail()\n",
    "\n",
    "x2 = data_frame['Departments'].tail()\n",
    "y2 = data_frame['Public_Datsets'].tail()\n",
    "\n",
    "plt.bar(x1,y1,label='Datasets')\n",
    "plt.bar(x2,y2,label='Public_Datsets')\n",
    "plt.legend()\n",
    "plt.xlabel('Departments')\n",
    "plt.ylabel('DATASETS')\n",
    "plt.title('Combination of Datasets and Public_Datsets')\n",
    "plt.show()"
   ]
  },
  {
   "cell_type": "code",
   "execution_count": null,
   "metadata": {},
   "outputs": [],
   "source": [
    "plt.figure(figsize = (8,5),dpi=200)\n",
    "\n",
    "x1 = data_frame['Departments'].head()\n",
    "y1 = data_frame['Datasets'].head()\n",
    "\n",
    "x2 = data_frame['Departments'].head()\n",
    "y2 = data_frame['Non_Public_Datasets'].head()\n",
    "\n",
    "plt.bar(x1,y1,label='Datasets')\n",
    "plt.bar(x2,y2,label='Non_Public_Datasets')\n",
    "plt.legend()\n",
    "plt.xlabel('Departments')\n",
    "plt.ylabel('DATASETS')\n",
    "plt.title('Combination of Datasets and Non_Public_Datasets')\n",
    "plt.show()"
   ]
  },
  {
   "cell_type": "code",
   "execution_count": null,
   "metadata": {},
   "outputs": [],
   "source": [
    "plt.figure(figsize = (8,5),dpi=200)\n",
    "\n",
    "x1 = data_frame['Departments'].tail()\n",
    "y1 = data_frame['Datasets'].tail()\n",
    "\n",
    "x2 = data_frame['Departments'].tail()\n",
    "y2 = data_frame['Non_Public_Datasets'].tail()\n",
    "\n",
    "plt.bar(x1,y1,label='Datasets')\n",
    "plt.bar(x2,y2,label='Non_Public_Datasets')\n",
    "plt.legend()\n",
    "plt.xlabel('Departments')\n",
    "plt.ylabel('DATASETS')\n",
    "plt.title('Combination of Datasets and Non_Public_Datasets')\n",
    "plt.show()"
   ]
  },
  {
   "cell_type": "code",
   "execution_count": null,
   "metadata": {},
   "outputs": [],
   "source": [
    "restricted_public_datasets_sum = data_frame['Restricted_Public_Datasets'].sum()\n",
    "print('restricted_public_datasets_sum =',restricted_public_datasets_sum)\n",
    "\n",
    "public_dataset_sum = data_frame['Public_Datsets'].sum()\n",
    "print('public_dataset_sum =',public_dataset_sum)\n",
    "\n",
    "non_public_dataset_sum = data_frame['Non_Public_Datasets'].sum()\n",
    "print('non_public_dataset_sum =',non_public_dataset_sum)"
   ]
  },
  {
   "cell_type": "code",
   "execution_count": null,
   "metadata": {},
   "outputs": [],
   "source": [
    "dataset_sum = data_frame['Datasets'].sum()\n",
    "print('dataset_sum =',dataset_sum)"
   ]
  },
  {
   "cell_type": "code",
   "execution_count": null,
   "metadata": {},
   "outputs": [],
   "source": [
    "fig = plt.figure(figsize=(12,12))\n",
    "ax = fig.add_axes([0,0,1,1])\n",
    "ax.axis('equal')\n",
    "\n",
    "slices = [restricted_public_datasets_sum, public_dataset_sum, non_public_dataset_sum]\n",
    "labels = ['Restricted Public Datasets', 'Public Datasets', 'Non Public Datasets']\n",
    "ax.pie(slices, labels= labels, autopct='%1.1f%%',wedgeprops={'edgecolor':'k'})\n",
    "plt.title('DATASETS PIE CHART')\n",
    "plt.show()"
   ]
  },
  {
   "cell_type": "code",
   "execution_count": null,
   "metadata": {},
   "outputs": [],
   "source": [
    "restricted_public_API_sum = data_frame['Restricted_Public_API'].sum()\n",
    "print('restricted_public_API_sum =',restricted_public_API_sum)\n",
    "\n",
    "public_API_sum = data_frame['Public_API'].sum()\n",
    "print('public_API_sum =',public_API_sum)\n",
    "\n",
    "non_public_API_sum = data_frame['Non_Public_API'].sum()\n",
    "print('non_public_API_sum =',non_public_API_sum)"
   ]
  },
  {
   "cell_type": "code",
   "execution_count": null,
   "metadata": {},
   "outputs": [],
   "source": [
    "API_sum = data_frame['Total_API'].sum()\n",
    "print('API_sum =',API_sum)"
   ]
  },
  {
   "cell_type": "code",
   "execution_count": null,
   "metadata": {},
   "outputs": [],
   "source": [
    "fig = plt.figure(figsize=(12,12))\n",
    "ax = fig.add_axes([0,0,1,1])\n",
    "ax.axis('equal')\n",
    "\n",
    "slices = [restricted_public_API_sum, public_API_sum, non_public_API_sum]\n",
    "labels = ['Restricted Public API', 'Public API', 'Non Public API']\n",
    "ax.pie(slices, labels= labels, autopct='%1.1f%%',wedgeprops={'edgecolor':'k'})\n",
    "plt.title(\"API PIE CHART\")\n",
    "plt.show()"
   ]
  }
 ],
 "metadata": {
  "kernelspec": {
   "display_name": "Python 3",
   "language": "python",
   "name": "python3"
  },
  "language_info": {
   "codemirror_mode": {
    "name": "ipython",
    "version": 3
   },
   "file_extension": ".py",
   "mimetype": "text/x-python",
   "name": "python",
   "nbconvert_exporter": "python",
   "pygments_lexer": "ipython3",
   "version": "3.7.3"
  }
 },
 "nbformat": 4,
 "nbformat_minor": 2
}
